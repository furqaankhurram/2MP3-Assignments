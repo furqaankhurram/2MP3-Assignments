{
 "cells": [
  {
   "cell_type": "code",
   "execution_count": 1,
   "metadata": {
    "id": "A0vDPQxHkwg9"
   },
   "outputs": [],
   "source": [
    "\n",
    "import time\n",
    "import ctypes\n",
    "import sys\n",
    "import numpy as np\n",
    "from numpy.ctypeslib import ndpointer"
   ]
  },
  {
   "cell_type": "code",
   "execution_count": 2,
   "metadata": {
    "id": "d78YdcPVx7rh"
   },
   "outputs": [
    {
     "name": "stdout",
     "output_type": "stream",
     "text": [
      "Current recursion limit is set to: 10000000\n"
     ]
    }
   ],
   "source": [
    "\n",
    "lib_path = './libmysort.so'\n",
    "new_limit = 10000000  # New Recursion Val\n",
    "sys.setrecursionlimit(new_limit)\n",
    "current_limit = sys.getrecursionlimit()\n",
    "print(f\"Current recursion limit is set to: {current_limit}\")\n",
    "\n",
    "# Load the shared library\n",
    "mySortLib = ctypes.CDLL(lib_path)\n",
    "\n",
    "# Define input argument types without conversion using ndpointer\n",
    "mySortLib.bubbleSort.argtypes = [ndpointer(ctypes.c_int, flags=\"C_CONTIGUOUS\"), ctypes.c_int]\n",
    "mySortLib.bubbleSort.restype = None\n",
    "\n",
    "mySortLib.mergeSort.argtypes = [ndpointer(ctypes.c_int, flags=\"C_CONTIGUOUS\"), ctypes.c_int]\n",
    "mySortLib.mergeSort.restype = None\n",
    "\n",
    "mySortLib.heapSort.argtypes = [ndpointer(ctypes.c_int, flags=\"C_CONTIGUOUS\"), ctypes.c_int]\n",
    "mySortLib.heapSort.restype = None\n",
    "\n",
    "mySortLib.countingSort.argtypes = [ndpointer(ctypes.c_int, flags=\"C_CONTIGUOUS\"), ctypes.c_int]\n",
    "mySortLib.countingSort.restype = None\n",
    "\n",
    "mySortLib.insertionSort.argtypes = [ndpointer(ctypes.c_int, flags=\"C_CONTIGUOUS\"), ctypes.c_int]\n",
    "mySortLib.insertionSort.restype = None"
   ]
  },
  {
   "cell_type": "code",
   "execution_count": 3,
   "metadata": {
    "colab": {
     "base_uri": "https://localhost:8080/"
    },
    "id": "C1_7sZXfk4l-",
    "outputId": "e343ffe5-e2e6-4067-9a16-e59a7fddd32e",
    "scrolled": true
   },
   "outputs": [
    {
     "name": "stdout",
     "output_type": "stream",
     "text": [
      "Original array: [  64 -134   -5    0   25   12   22   11   90]\n",
      "Sorted array using Bubble Sort: [-134   -5    0   11   12   22   25   64   90]\n",
      "Sorted array using Merge Sort: [-134   -5    0   11   12   22   25   64   90]\n",
      "Sorted array using Heap Sort: [-134   -5    0   11   12   22   25   64   90]\n",
      "Sorted array using Insertion Sort: [-134   -5    0   11   12   22   25   64   90]\n",
      "Sorted array using Counting Sort: [-134   -5    0   11   12   22   25   64   90]\n"
     ]
    }
   ],
   "source": [
    "\n",
    "arr0 = np.array([64, -134, -5, 0, 25, 12, 22, 11, 90], dtype=np.int32)\n",
    "arr1 = np.copy(arr0)\n",
    "arr2 = np.copy(arr0)\n",
    "arr3 = np.copy(arr0)\n",
    "arr4 = np.copy(arr0)\n",
    "n = len(arr0)\n",
    "print(\"Original array:\", arr0)\n",
    "\n",
    "mySortLib.bubbleSort(arr0, n)\n",
    "mySortLib.mergeSort(arr1, 0, n-1)\n",
    "mySortLib.heapSort(arr2, n)\n",
    "mySortLib.insertionSort(arr3, n)\n",
    "mySortLib.countingSort(arr4, n)\n",
    "\n",
    "print(\"Sorted array using Bubble Sort:\", arr0)\n",
    "print(\"Sorted array using Merge Sort:\", arr1) \n",
    "print(\"Sorted array using Heap Sort:\", arr2)\n",
    "print(\"Sorted array using Insertion Sort:\", arr3)\n",
    "print(\"Sorted array using Counting Sort:\", arr4)"
   ]
  },
  {
   "cell_type": "code",
   "execution_count": 4,
   "metadata": {
    "colab": {
     "base_uri": "https://localhost:8080/"
    },
    "id": "WsqIeZURtUP5",
    "outputId": "9b4695f7-93ea-478d-9176-0e0439096e30"
   },
   "outputs": [
    {
     "name": "stdout",
     "output_type": "stream",
     "text": [
      "Original array:  [ 310755  722027 -680217 ... -710196  530455 -518122]\n"
     ]
    }
   ],
   "source": [
    "# Creating a large test case\n",
    "arr = np.random.choice(np.arange(-1000000, 1000000, dtype=np.int32), size=500000, replace=False)\n",
    "n = len(arr)\n",
    "print(\"Original array: \", arr)"
   ]
  },
  {
   "cell_type": "code",
   "execution_count": 5,
   "metadata": {
    "colab": {
     "base_uri": "https://localhost:8080/"
    },
    "id": "pPrsFng0yzNO",
    "outputId": "d595019f-bd45-459e-e2f5-2719bbaa8e06"
   },
   "outputs": [
    {
     "name": "stdout",
     "output_type": "stream",
     "text": [
      "Sorted array using Merge Sort: [-999998 -999997 -999993 ...  999980  999990  999995]\n",
      "Time to convert: 0.08540558815002441 seconds\n",
      "Sorted array using Heap Sort: [-999998 -999997 -999993 ...  999980  999990  999995]\n",
      "Time to convert: 0.09358501434326172 seconds\n",
      "Sorted array using Insertion Sort: [-999998 -999997 -999993 ...  999980  999990  999995]\n",
      "Time to convert: 30.124799728393555 seconds\n",
      "Sorted array using Counting Sort: [-999998 -999997 -999993 ...  999980  999990  999995]\n",
      "Time to convert: 0.01979207992553711 seconds\n",
      "Sorted array using Bubble Sort: [-999998 -999997 -999993 ...  999980  999990  999995]\n",
      "Time to convert: 624.232812166214 seconds\n"
     ]
    }
   ],
   "source": [
    "arr_copy = np.copy(arr)\n",
    "arr2_copy = np.copy(arr)\n",
    "arr3_copy = np.copy(arr)\n",
    "arr4_copy = np.copy(arr)\n",
    "arr5_copy = np.copy(arr)\n",
    "\n",
    "startMerge = time.time()\n",
    "mySortLib.mergeSort(arr2_copy,0,n-1)\n",
    "endMerge = time.time()\n",
    "print(\"Sorted array using Merge Sort:\", arr2_copy)\n",
    "print(f\"Time to convert: {endMerge - startMerge} seconds\")\n",
    "\n",
    "startHeap = time.time()\n",
    "mySortLib.heapSort(arr3_copy, n)\n",
    "endHeap = time.time()\n",
    "print(\"Sorted array using Heap Sort:\", arr3_copy)\n",
    "print(f\"Time to convert: {endHeap - startHeap} seconds\")\n",
    "\n",
    "startInsertion = time.time()\n",
    "mySortLib.insertionSort(arr4_copy, n)\n",
    "endInsertion = time.time()\n",
    "print(\"Sorted array using Insertion Sort:\", arr4_copy)\n",
    "print(f\"Time to convert: {endInsertion - startInsertion} seconds\")\n",
    "\n",
    "startCounting = time.time()\n",
    "mySortLib.countingSort(arr5_copy, n)\n",
    "endCounting = time.time()\n",
    "print(\"Sorted array using Counting Sort:\", arr5_copy)\n",
    "print(f\"Time to convert: {endCounting - startCounting} seconds\")\n",
    "\n",
    "startBubble = time.time()\n",
    "mySortLib.bubbleSort(arr_copy, n)\n",
    "endBubble = time.time()\n",
    "print(\"Sorted array using Bubble Sort:\", arr_copy)\n",
    "print(f\"Time to convert: {endBubble - startBubble} seconds\")\n"
   ]
  },
  {
   "cell_type": "code",
   "execution_count": 6,
   "metadata": {
    "colab": {
     "base_uri": "https://localhost:8080/"
    },
    "id": "VKStSUINAFdb",
    "outputId": "41eeddef-4a12-42e4-85b5-446e0ef0d67f"
   },
   "outputs": [
    {
     "name": "stdout",
     "output_type": "stream",
     "text": [
      "Time taken by built-in sort: 0.3186047077178955 seconds\n"
     ]
    }
   ],
   "source": [
    "arr_copy = np.copy(arr)\n",
    "start = time.time()\n",
    "sorted_arr = sorted(arr_copy)  # Python's built-in sort\n",
    "end = time.time()\n",
    "print(\"Time taken by built-in sort:\", end - start, \"seconds\")"
   ]
  },
  {
   "cell_type": "code",
   "execution_count": 7,
   "metadata": {
    "colab": {
     "base_uri": "https://localhost:8080/"
    },
    "id": "uQ3afi3nALYO",
    "outputId": "d87dfc5a-4852-4d64-b3a7-70f7fa8ca201"
   },
   "outputs": [
    {
     "name": "stdout",
     "output_type": "stream",
     "text": [
      "Time taken by NumPy sort: 0.006017446517944336 seconds\n"
     ]
    }
   ],
   "source": [
    "arr_copy = np.copy(arr)\n",
    "start = time.time()\n",
    "np.sort(arr_copy)  # NumPy's optimized sort\n",
    "end = time.time()\n",
    "print(\"Time taken by NumPy sort:\", end - start, \"seconds\")"
   ]
  }
 ],
 "metadata": {
  "colab": {
   "provenance": []
  },
  "kernelspec": {
   "display_name": "Python 3 (ipykernel)",
   "language": "python",
   "name": "python3"
  },
  "language_info": {
   "codemirror_mode": {
    "name": "ipython",
    "version": 3
   },
   "file_extension": ".py",
   "mimetype": "text/x-python",
   "name": "python",
   "nbconvert_exporter": "python",
   "pygments_lexer": "ipython3",
   "version": "3.12.3"
  }
 },
 "nbformat": 4,
 "nbformat_minor": 4
}
